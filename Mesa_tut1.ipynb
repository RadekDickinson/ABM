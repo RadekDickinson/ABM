{
 "cells": [
  {
   "cell_type": "code",
   "execution_count": 94,
   "metadata": {},
   "outputs": [],
   "source": [
    "from mesa import Agent, Model\n",
    "from mesa.time import RandomActivation\n",
    "import matplotlib.pyplot as plt\n",
    "import numpy as np\n",
    "import seaborn as sns"
   ]
  },
  {
   "cell_type": "code",
   "execution_count": 68,
   "metadata": {},
   "outputs": [
    {
     "data": {
      "image/png": "[encoded data removed]",
      "text/plain": [
       "<Figure size 432x288 with 1 Axes>"
      ]
     },
     "metadata": {
      "needs_background": "light"
     },
     "output_type": "display_data"
    }
   ],
   "source": [
    "class MoneyAgent(Agent):\n",
    "    def __init__(self, unique_id, model):\n",
    "        super().__init__(unique_id, model)\n",
    "        self.wealth = 1\n",
    "        \n",
    "    def step(self):\n",
    "        if self.wealth == 0:\n",
    "            return\n",
    "        other_agent = self.random.choice(self.model.schedule.agents)\n",
    "        other_agent.wealth += 1\n",
    "        self.wealth -= 1\n",
    "        \n",
    "class MoneyModel(Model):\n",
    "    def __init__(self, N):\n",
    "        self.num_agents = N\n",
    "        self.schedule = RandomActivation(self)\n",
    "        for i in range(self.num_agents):\n",
    "            a = MoneyAgent(i, self)\n",
    "            self.schedule.add(a)\n",
    "            \n",
    "    def step(self):\n",
    "        self.schedule.step()\n",
    "            \n",
    "mod = MoneyModel(10)\n",
    "for i in range(10):\n",
    "    mod.step()\n",
    "    \n",
    "agent_wealth = [a.wealth for a in mod.schedule.agents]\n",
    "plt.hist(agent_wealth)\n",
    "plt.show()"
   ]
  },
  {
   "cell_type": "code",
   "execution_count": 132,
   "metadata": {},
   "outputs": [
    {
     "data": {
      "image/png": "[encoded data removed]",
      "text/plain": [
       "<Figure size 648x432 with 4 Axes>"
      ]
     },
     "metadata": {
      "needs_background": "light"
     },
     "output_type": "display_data"
    }
   ],
   "source": [
    "def simulate(B,N,steps):\n",
    "\n",
    "    all_wealth = np.empty((B, N))\n",
    "\n",
    "    for b in range(B):\n",
    "        model = MoneyModel(N)\n",
    "        for i in range(steps):\n",
    "            model.step()\n",
    "\n",
    "        all_wealth[b,:] = [a.wealth for a in model.schedule.agents]\n",
    "        \n",
    "    return all_wealth\n",
    "\n",
    "fig, axes = plt.subplots(2,2,figsize=(9,6))\n",
    "axes = axes.flatten()\n",
    "\n",
    "for ax, (B,N,steps) in zip(axes, [[100, 10, 10], [100, 10, 100], [100, 10, 500], [100, 10, 1000]]):\n",
    "    all_wealth = simulate(B,N,steps)\n",
    "    all_wealth = all_wealth.flatten()\n",
    "    \n",
    "    ax.hist(all_wealth, edgecolor='k', alpha=0.5, bins=list(range(int(max(all_wealth)+1))))\n",
    "    ax.set_title(f'B = {B}, N = {N}, steps = {steps}')\n",
    "\n",
    "plt.tight_layout()\n",
    "plt.show()"
   ]
  },
  {
   "cell_type": "markdown",
   "metadata": {},
   "source": [
    "# Adding space"
   ]
  },
  {
   "cell_type": "code",
   "execution_count": 174,
   "metadata": {},
   "outputs": [
    {
     "data": {
      "image/png": "[encoded data removed]",
      "text/plain": [
       "<Figure size 648x288 with 3 Axes>"
      ]
     },
     "metadata": {
      "needs_background": "light"
     },
     "output_type": "display_data"
    }
   ],
   "source": [
    "from mesa.space import MultiGrid\n",
    "\n",
    "class MoneyAgent(Agent):\n",
    "    def __init__(self, unique_id, model):\n",
    "        super().__init__(unique_id, model)\n",
    "        self.wealth = 1\n",
    "        \n",
    "    def move(self):\n",
    "        possible_steps = self.model.grid.get_neighborhood(self.pos, moore=True, include_center=False)\n",
    "        new_position = self.random.choice(possible_steps)\n",
    "        self.model.grid.move_agent(self, new_position)\n",
    "        \n",
    "    def give_money(self):\n",
    "        cellmates = self.model.grid.get_cell_list_contents([self.pos])\n",
    "        if len(cellmates)>1:\n",
    "            other = self.random.choice(cellmates)\n",
    "            other.wealth += 1\n",
    "            self.wealth -= 1\n",
    "        \n",
    "    def step(self):\n",
    "        self.move()\n",
    "        if self.wealth > 0:\n",
    "            self.give_money()\n",
    "\n",
    "class MoneyModel(Model):\n",
    "    def __init__(self, N, width, height):\n",
    "        self.num_agents = N\n",
    "        self.grid = MultiGrid(width=width, height=height, torus=True)\n",
    "        self.schedule = RandomActivation(self)\n",
    "        \n",
    "        # Create agents\n",
    "        for i in range(self.num_agents):\n",
    "            a = MoneyAgent(i, self)\n",
    "            self.schedule.add(a)\n",
    "            \n",
    "            x = self.random.randrange(self.grid.width)\n",
    "            y = self.random.randrange(self.grid.height)\n",
    "            self.grid.place_agent(a, (x,y))\n",
    "            \n",
    "    def step(self):\n",
    "        self.schedule.step()\n",
    "        \n",
    "\n",
    "model = MoneyModel(N=50,width=10,height=10)\n",
    "for i in range(20):\n",
    "    model.step()\n",
    "    \n",
    "agent_counts = np.zeros((model.grid.width, model.grid.height))\n",
    "for cell in model.grid.coord_iter():\n",
    "    cell_content, x, y = cell\n",
    "    agent_count = len(cell_content)\n",
    "    agent_counts[x][y] = agent_count\n",
    "    \n",
    "wealths = [a.wealth for a in model.schedule.agents]\n",
    "    \n",
    "fig, (ax1,ax2) = plt.subplots(1,2,figsize=(9,4))\n",
    "    \n",
    "pic = ax1.imshow(agent_counts, interpolation='nearest')\n",
    "plt.colorbar(pic, ax=ax1)\n",
    "ax2.hist(wealths, bins=list(range(int(max(all_wealth)+1))), edgecolor='k')\n",
    "\n",
    "plt.show()"
   ]
  },
  {
   "cell_type": "markdown",
   "metadata": {},
   "source": [
    "# Collecting data"
   ]
  },
  {
   "cell_type": "code",
   "execution_count": 203,
   "metadata": {},
   "outputs": [],
   "source": [
    "from mesa.datacollection import DataCollector\n",
    "\n",
    "def compute_gini(model):\n",
    "    agent_wealths = [a.wealth for a in model.schedule.agents]\n",
    "    x = sorted(agent_wealths)\n",
    "    N = model.num_agents\n",
    "    B = sum( xi * (N-i) for i,xi in enumerate(x) ) / (N*sum(x))\n",
    "    return (1 + (1/N) - 2*B)\n",
    "\n",
    "class MoneyModel(Model):\n",
    "    def __init__(self, N, width, height):\n",
    "        self.num_agents = N\n",
    "        self.grid = MultiGrid(width=width, height=height, torus=True)\n",
    "        self.schedule = RandomActivation(self)\n",
    "        \n",
    "        # Create agents\n",
    "        for i in range(self.num_agents):\n",
    "            a = MoneyAgent(i, self)\n",
    "            self.schedule.add(a)\n",
    "            \n",
    "            x = self.random.randrange(self.grid.width)\n",
    "            y = self.random.randrange(self.grid.height)\n",
    "            self.grid.place_agent(a, (x,y))\n",
    "            \n",
    "        self.datacollector = DataCollector(model_reporters={'Gini': compute_gini},\n",
    "                                          agent_reporters={'Wealth':'wealth'})\n",
    "            \n",
    "    def step(self):\n",
    "        self.datacollector.collect(self)\n",
    "        self.schedule.step()\n",
    "        \n",
    "model = MoneyModel(N=50, width=10, height=10)\n",
    "for i in range(100):\n",
    "    model.step()"
   ]
  },
  {
   "cell_type": "code",
   "execution_count": 204,
   "metadata": {},
   "outputs": [
    {
     "data": {
      "image/png": "[encoded data removed]",
      "text/plain": [
       "<Figure size 432x288 with 1 Axes>"
      ]
     },
     "metadata": {
      "needs_background": "light"
     },
     "output_type": "display_data"
    }
   ],
   "source": [
    "gini_df = model.datacollector.get_model_vars_dataframe()\n",
    "plt.plot(gini_df.Gini)\n",
    "plt.legend(loc=4)\n",
    "plt.show()"
   ]
  },
  {
   "cell_type": "code",
   "execution_count": 296,
   "metadata": {},
   "outputs": [],
   "source": [
    "%matplotlib qt\n",
    "import time\n",
    "\n",
    "df = model.datacollector.get_agent_vars_dataframe()\n",
    "df.tail(5)\n",
    "\n",
    "fig, (ax1,ax2) = plt.subplots(1,2,figsize=(15,6))\n",
    "for i in range(5,100):\n",
    "    ax1.clear()\n",
    "    ax1.hist(df.loc[i].values, bins = range(int(max(all_wealth)+1)), edgecolor='k')\n",
    "    ax1.set_ylim((0,50))\n",
    "    ax1.set_title('Distribution of wealth')\n",
    "    \n",
    "    ax2.clear()\n",
    "    ax2.plot(gini_df.Gini.values[5:i])\n",
    "    ax2.set_title('Gini')\n",
    "    \n",
    "    plt.pause(0.2)\n",
    "    \n",
    "plt.show()"
   ]
  },
  {
   "cell_type": "markdown",
   "metadata": {},
   "source": [
    "# Batch run"
   ]
  },
  {
   "cell_type": "code",
   "execution_count": 305,
   "metadata": {},
   "outputs": [],
   "source": [
    "from mesa.batchrunner import BatchRunner\n",
    "\n",
    "class MoneyModel(Model):\n",
    "    def __init__(self, N, width, height):\n",
    "        self.num_agents = N\n",
    "        self.grid = MultiGrid(width=width, height=height, torus=True)\n",
    "        self.schedule = RandomActivation(self)\n",
    "        self.running = True\n",
    "        \n",
    "        # Create agents\n",
    "        for i in range(self.num_agents):\n",
    "            a = MoneyAgent(i, self)\n",
    "            self.schedule.add(a)\n",
    "            \n",
    "            x = self.random.randrange(self.grid.width)\n",
    "            y = self.random.randrange(self.grid.height)\n",
    "            self.grid.place_agent(a, (x,y))\n",
    "            \n",
    "        self.datacollector = DataCollector(model_reporters={'Gini': compute_gini},\n",
    "                                          agent_reporters={'Wealth':'wealth'})\n",
    "            \n",
    "    def step(self):\n",
    "        self.datacollector.collect(self)\n",
    "        self.schedule.step()"
   ]
  },
  {
   "cell_type": "code",
   "execution_count": 306,
   "metadata": {},
   "outputs": [
    {
     "name": "stderr",
     "output_type": "stream",
     "text": [
      "245it [01:52,  1.15it/s]\n"
     ]
    }
   ],
   "source": [
    "fixed_params = {'width':10, 'height':10}\n",
    "variable_params = {'N':range(10,500,10)}\n",
    "\n",
    "batch_run = BatchRunner(model_cls=MoneyModel,\n",
    "                       variable_parameters=variable_params,\n",
    "                       fixed_parameters=fixed_params,\n",
    "                       iterations=5,\n",
    "                       max_steps=100,\n",
    "                       model_reporters={'Gini':compute_gini})\n",
    "\n",
    "batch_run.run_all()"
   ]
  },
  {
   "cell_type": "code",
   "execution_count": 311,
   "metadata": {},
   "outputs": [
    {
     "data": {
      "text/html": [
       "<div>\n",
       "<style scoped>\n",
       "    .dataframe tbody tr th:only-of-type {\n",
       "        vertical-align: middle;\n",
       "    }\n",
       "\n",
       "    .dataframe tbody tr th {\n",
       "        vertical-align: top;\n",
       "    }\n",
       "\n",
       "    .dataframe thead th {\n",
       "        text-align: right;\n",
       "    }\n",
       "</style>\n",
       "<table border=\"1\" class=\"dataframe\">\n",
       "  <thead>\n",
       "    <tr style=\"text-align: right;\">\n",
       "      <th></th>\n",
       "      <th>N</th>\n",
       "      <th>Run</th>\n",
       "      <th>Gini</th>\n",
       "      <th>width</th>\n",
       "      <th>height</th>\n",
       "    </tr>\n",
       "  </thead>\n",
       "  <tbody>\n",
       "    <tr>\n",
       "      <th>0</th>\n",
       "      <td>10</td>\n",
       "      <td>0</td>\n",
       "      <td>0.46</td>\n",
       "      <td>10</td>\n",
       "      <td>10</td>\n",
       "    </tr>\n",
       "    <tr>\n",
       "      <th>1</th>\n",
       "      <td>10</td>\n",
       "      <td>1</td>\n",
       "      <td>0.60</td>\n",
       "      <td>10</td>\n",
       "      <td>10</td>\n",
       "    </tr>\n",
       "    <tr>\n",
       "      <th>2</th>\n",
       "      <td>10</td>\n",
       "      <td>2</td>\n",
       "      <td>0.54</td>\n",
       "      <td>10</td>\n",
       "      <td>10</td>\n",
       "    </tr>\n",
       "    <tr>\n",
       "      <th>3</th>\n",
       "      <td>10</td>\n",
       "      <td>3</td>\n",
       "      <td>0.58</td>\n",
       "      <td>10</td>\n",
       "      <td>10</td>\n",
       "    </tr>\n",
       "    <tr>\n",
       "      <th>4</th>\n",
       "      <td>10</td>\n",
       "      <td>4</td>\n",
       "      <td>0.68</td>\n",
       "      <td>10</td>\n",
       "      <td>10</td>\n",
       "    </tr>\n",
       "  </tbody>\n",
       "</table>\n",
       "</div>"
      ],
      "text/plain": [
       "    N  Run  Gini  width  height\n",
       "0  10    0  0.46     10      10\n",
       "1  10    1  0.60     10      10\n",
       "2  10    2  0.54     10      10\n",
       "3  10    3  0.58     10      10\n",
       "4  10    4  0.68     10      10"
      ]
     },
     "execution_count": 311,
     "metadata": {},
     "output_type": "execute_result"
    }
   ],
   "source": [
    "run_df = batch_run.get_model_vars_dataframe()\n",
    "run_df.head()"
   ]
  },
  {
   "cell_type": "code",
   "execution_count": 325,
   "metadata": {},
   "outputs": [
    {
     "data": {
      "image/png": "[encoded data removed]",
      "text/plain": [
       "<Figure size 432x288 with 1 Axes>"
      ]
     },
     "metadata": {
      "needs_background": "light"
     },
     "output_type": "display_data"
    }
   ],
   "source": [
    "%matplotlib inline\n",
    "plt.scatter(run_df.N, run_df.Gini)\n",
    "plt.show()"
   ]
  },
  {
   "cell_type": "code",
   "execution_count": 301,
   "metadata": {},
   "outputs": [
    {
     "name": "stdout",
     "output_type": "stream",
     "text": [
      "Help on class BatchRunner in module mesa.batchrunner:\n",
      "\n",
      "class BatchRunner(builtins.object)\n",
      " |  BatchRunner(model_cls, variable_parameters=None, fixed_parameters=None, iterations=1, max_steps=1000, model_reporters=None, agent_reporters=None, display_progress=True)\n",
      " |  \n",
      " |  This class is instantiated with a model class, and model parameters\n",
      " |  associated with one or more values. It is also instantiated with model and\n",
      " |  agent-level reporters, dictionaries mapping a variable name to a function\n",
      " |  which collects some data from the model or its agents at the end of the run\n",
      " |  and stores it.\n",
      " |  \n",
      " |  Note that by default, the reporters only collect data at the *end* of the\n",
      " |  run. To get step by step data, simply have a reporter store the model's\n",
      " |  entire DataCollector object.\n",
      " |  \n",
      " |  Methods defined here:\n",
      " |  \n",
      " |  __init__(self, model_cls, variable_parameters=None, fixed_parameters=None, iterations=1, max_steps=1000, model_reporters=None, agent_reporters=None, display_progress=True)\n",
      " |      Create a new BatchRunner for a given model with the given\n",
      " |      parameters.\n",
      " |      \n",
      " |      Args:\n",
      " |          model_cls: The class of model to batch-run.\n",
      " |          variable_parameters: Dictionary of parameters to lists of values.\n",
      " |              The model will be run with every combo of these paramters.\n",
      " |              For example, given variable_parameters of\n",
      " |                  {\"param_1\": range(5),\n",
      " |                   \"param_2\": [1, 5, 10]}\n",
      " |              models will be run with {param_1=1, param_2=1},\n",
      " |                  {param_1=2, param_2=1}, ..., {param_1=4, param_2=10}.\n",
      " |          fixed_parameters: Dictionary of parameters that stay same through\n",
      " |              all batch runs. For example, given fixed_parameters of\n",
      " |                  {\"constant_parameter\": 3},\n",
      " |              every instantiated model will be passed constant_parameter=3\n",
      " |              as a kwarg.\n",
      " |          iterations: The total number of times to run the model for each\n",
      " |              combination of parameters.\n",
      " |          max_steps: Upper limit of steps above which each run will be halted\n",
      " |              if it hasn't halted on its own.\n",
      " |          model_reporters: The dictionary of variables to collect on each run\n",
      " |              at the end, with variable names mapped to a function to collect\n",
      " |              them. For example:\n",
      " |                  {\"agent_count\": lambda m: m.schedule.get_agent_count()}\n",
      " |          agent_reporters: Like model_reporters, but each variable is now\n",
      " |              collected at the level of each agent present in the model at\n",
      " |              the end of the run.\n",
      " |          display_progress: Display progresss bar with time estimation?\n",
      " |  \n",
      " |  collect_agent_vars(self, model)\n",
      " |      Run reporters and collect agent-level variables.\n",
      " |  \n",
      " |  collect_model_vars(self, model)\n",
      " |      Run reporters and collect model-level variables.\n",
      " |  \n",
      " |  get_agent_vars_dataframe(self)\n",
      " |      Generate a pandas DataFrame from the agent-level variables\n",
      " |      collected.\n",
      " |  \n",
      " |  get_model_vars_dataframe(self)\n",
      " |      Generate a pandas DataFrame from the model-level variables\n",
      " |      collected.\n",
      " |  \n",
      " |  run_all(self)\n",
      " |      Run the model at all parameter combinations and store results.\n",
      " |  \n",
      " |  run_iteration(self, kwargs, param_values, run_count)\n",
      " |  \n",
      " |  run_model(self, model)\n",
      " |      Run a model object to completion, or until reaching max steps.\n",
      " |      \n",
      " |      If your model runs in a non-standard way, this is the method to modify\n",
      " |      in your subclass.\n",
      " |  \n",
      " |  ----------------------------------------------------------------------\n",
      " |  Data descriptors defined here:\n",
      " |  \n",
      " |  __dict__\n",
      " |      dictionary for instance variables (if defined)\n",
      " |  \n",
      " |  __weakref__\n",
      " |      list of weak references to the object (if defined)\n",
      "\n"
     ]
    }
   ],
   "source": [
    "help(BatchRunner)"
   ]
  },
  {
   "cell_type": "code",
   "execution_count": null,
   "metadata": {},
   "outputs": [],
   "source": []
  },
  {
   "cell_type": "code",
   "execution_count": null,
   "metadata": {},
   "outputs": [],
   "source": []
  }
 ],
 "metadata": {
  "kernelspec": {
   "display_name": "Python 3",
   "language": "python",
   "name": "python3"
  },
  "language_info": {
   "codemirror_mode": {
    "name": "ipython",
    "version": 3
   },
   "file_extension": ".py",
   "mimetype": "text/x-python",
   "name": "python",
   "nbconvert_exporter": "python",
   "pygments_lexer": "ipython3",
   "version": "3.7.3"
  }
 },
 "nbformat": 4,
 "nbformat_minor": 2
}
