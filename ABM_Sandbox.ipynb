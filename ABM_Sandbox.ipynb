{
 "cells": [
  {
   "cell_type": "code",
   "execution_count": 2,
   "metadata": {},
   "outputs": [],
   "source": [
    "import numpy as np\n",
    "from scipy import stats\n",
    "import matplotlib.pyplot as plt\n",
    "import pandas as pd"
   ]
  },
  {
   "cell_type": "code",
   "execution_count": null,
   "metadata": {},
   "outputs": [],
   "source": []
  },
  {
   "cell_type": "code",
   "execution_count": null,
   "metadata": {},
   "outputs": [],
   "source": []
  },
  {
   "cell_type": "code",
   "execution_count": 12,
   "metadata": {},
   "outputs": [
    {
     "data": {
      "text/plain": [
       "[<matplotlib.lines.Line2D at 0x7f6b4f37d358>]"
      ]
     },
     "execution_count": 12,
     "metadata": {},
     "output_type": "execute_result"
    },
    {
     "data": {
      "image/png": "[encoded data removed]",
      "text/plain": [
       "<Figure size 432x288 with 1 Axes>"
      ]
     },
     "metadata": {
      "needs_background": "light"
     },
     "output_type": "display_data"
    }
   ],
   "source": [
    "dom = np.linspace(1,5)\n",
    "\n",
    "plt.plot(dom, stats.pareto(b=1).pdf(dom))"
   ]
  },
  {
   "cell_type": "code",
   "execution_count": 28,
   "metadata": {},
   "outputs": [
    {
     "data": {
      "image/png": "[encoded data removed]",
      "text/plain": [
       "<Figure size 432x288 with 1 Axes>"
      ]
     },
     "metadata": {
      "needs_background": "light"
     },
     "output_type": "display_data"
    }
   ],
   "source": [
    "smpl = np.random.pareto(a=1, size=500)\n",
    "\n",
    "import seaborn as sns\n",
    "plt.hist(smpl,bins=200)\n",
    "plt.show()"
   ]
  },
  {
   "cell_type": "code",
   "execution_count": 18,
   "metadata": {},
   "outputs": [
    {
     "name": "stdout",
     "output_type": "stream",
     "text": [
      "Help on built-in function pareto:\n",
      "\n",
      "pareto(...) method of mtrand.RandomState instance\n",
      "    pareto(a, size=None)\n",
      "    \n",
      "    Draw samples from a Pareto II or Lomax distribution with\n",
      "    specified shape.\n",
      "    \n",
      "    The Lomax or Pareto II distribution is a shifted Pareto\n",
      "    distribution. The classical Pareto distribution can be\n",
      "    obtained from the Lomax distribution by adding 1 and\n",
      "    multiplying by the scale parameter ``m`` (see Notes).  The\n",
      "    smallest value of the Lomax distribution is zero while for the\n",
      "    classical Pareto distribution it is ``mu``, where the standard\n",
      "    Pareto distribution has location ``mu = 1``.  Lomax can also\n",
      "    be considered as a simplified version of the Generalized\n",
      "    Pareto distribution (available in SciPy), with the scale set\n",
      "    to one and the location set to zero.\n",
      "    \n",
      "    The Pareto distribution must be greater than zero, and is\n",
      "    unbounded above.  It is also known as the \"80-20 rule\".  In\n",
      "    this distribution, 80 percent of the weights are in the lowest\n",
      "    20 percent of the range, while the other 20 percent fill the\n",
      "    remaining 80 percent of the range.\n",
      "    \n",
      "    Parameters\n",
      "    ----------\n",
      "    a : float or array_like of floats\n",
      "        Shape of the distribution. Should be greater than zero.\n",
      "    size : int or tuple of ints, optional\n",
      "        Output shape.  If the given shape is, e.g., ``(m, n, k)``, then\n",
      "        ``m * n * k`` samples are drawn.  If size is ``None`` (default),\n",
      "        a single value is returned if ``a`` is a scalar.  Otherwise,\n",
      "        ``np.array(a).size`` samples are drawn.\n",
      "    \n",
      "    Returns\n",
      "    -------\n",
      "    out : ndarray or scalar\n",
      "        Drawn samples from the parameterized Pareto distribution.\n",
      "    \n",
      "    See Also\n",
      "    --------\n",
      "    scipy.stats.lomax : probability density function, distribution or\n",
      "        cumulative density function, etc.\n",
      "    scipy.stats.genpareto : probability density function, distribution or\n",
      "        cumulative density function, etc.\n",
      "    \n",
      "    Notes\n",
      "    -----\n",
      "    The probability density for the Pareto distribution is\n",
      "    \n",
      "    .. math:: p(x) = \\frac{am^a}{x^{a+1}}\n",
      "    \n",
      "    where :math:`a` is the shape and :math:`m` the scale.\n",
      "    \n",
      "    The Pareto distribution, named after the Italian economist\n",
      "    Vilfredo Pareto, is a power law probability distribution\n",
      "    useful in many real world problems.  Outside the field of\n",
      "    economics it is generally referred to as the Bradford\n",
      "    distribution. Pareto developed the distribution to describe\n",
      "    the distribution of wealth in an economy.  It has also found\n",
      "    use in insurance, web page access statistics, oil field sizes,\n",
      "    and many other problems, including the download frequency for\n",
      "    projects in Sourceforge [1]_.  It is one of the so-called\n",
      "    \"fat-tailed\" distributions.\n",
      "    \n",
      "    \n",
      "    References\n",
      "    ----------\n",
      "    .. [1] Francis Hunt and Paul Johnson, On the Pareto Distribution of\n",
      "           Sourceforge projects.\n",
      "    .. [2] Pareto, V. (1896). Course of Political Economy. Lausanne.\n",
      "    .. [3] Reiss, R.D., Thomas, M.(2001), Statistical Analysis of Extreme\n",
      "           Values, Birkhauser Verlag, Basel, pp 23-30.\n",
      "    .. [4] Wikipedia, \"Pareto distribution\",\n",
      "           https://en.wikipedia.org/wiki/Pareto_distribution\n",
      "    \n",
      "    Examples\n",
      "    --------\n",
      "    Draw samples from the distribution:\n",
      "    \n",
      "    >>> a, m = 3., 2.  # shape and mode\n",
      "    >>> s = (np.random.pareto(a, 1000) + 1) * m\n",
      "    \n",
      "    Display the histogram of the samples, along with the probability\n",
      "    density function:\n",
      "    \n",
      "    >>> import matplotlib.pyplot as plt\n",
      "    >>> count, bins, _ = plt.hist(s, 100, density=True)\n",
      "    >>> fit = a*m**a / bins**(a+1)\n",
      "    >>> plt.plot(bins, max(count)*fit/max(fit), linewidth=2, color='r')\n",
      "    >>> plt.show()\n",
      "\n"
     ]
    }
   ],
   "source": [
    "help(np.random.pareto)"
   ]
  },
  {
   "cell_type": "code",
   "execution_count": null,
   "metadata": {},
   "outputs": [],
   "source": []
  }
 ],
 "metadata": {
  "kernelspec": {
   "display_name": "Python 3",
   "language": "python",
   "name": "python3"
  },
  "language_info": {
   "codemirror_mode": {
    "name": "ipython",
    "version": 3
   },
   "file_extension": ".py",
   "mimetype": "text/x-python",
   "name": "python",
   "nbconvert_exporter": "python",
   "pygments_lexer": "ipython3",
   "version": "3.7.3"
  }
 },
 "nbformat": 4,
 "nbformat_minor": 2
}
